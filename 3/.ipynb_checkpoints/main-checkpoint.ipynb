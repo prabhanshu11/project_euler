{
 "cells": [
  {
   "cell_type": "code",
   "execution_count": 101,
   "metadata": {},
   "outputs": [],
   "source": [
    "import numpy as np\n",
    "import pandas as pd"
   ]
  },
  {
   "cell_type": "code",
   "execution_count": 374,
   "metadata": {},
   "outputs": [],
   "source": [
    "n = 600\n",
    "a = np.arange(1,np.sqrt(n)+1)\n",
    "modulus = n%a"
   ]
  },
  {
   "cell_type": "code",
   "execution_count": 375,
   "metadata": {},
   "outputs": [],
   "source": [
    "np.set_printoptions(edgeitems=300, linewidth=100000,formatter=dict(float=lambda x: \"%1.1f\" % x))"
   ]
  },
  {
   "cell_type": "code",
   "execution_count": 376,
   "metadata": {},
   "outputs": [
    {
     "data": {
      "text/plain": [
       "array([1.0, 2.0, 3.0, 4.0, 5.0, 6.0, 8.0, 10.0, 12.0, 15.0, 20.0, 24.0, 25.0])"
      ]
     },
     "execution_count": 376,
     "metadata": {},
     "output_type": "execute_result"
    }
   ],
   "source": [
    "compressed = np.compress(modulus==0,a);compressed"
   ]
  },
  {
   "cell_type": "code",
   "execution_count": null,
   "metadata": {},
   "outputs": [],
   "source": [
    "\n",
    "\n"
   ]
  },
  {
   "cell_type": "code",
   "execution_count": 377,
   "metadata": {},
   "outputs": [
    {
     "name": "stdout",
     "output_type": "stream",
     "text": [
      "     [1.0 2.0 3.0 4.0 5.0 6.0 8.0 10.0 12.0 15.0 20.0 24.0 25.0]\n",
      "   | -------------------------------------------\n",
      " 1 | [0.0 1.0 1.0 1.0 1.0 1.0]\n",
      " 2 | [0.0 0.0 2.0 2.0 2.0 2.0]\n",
      " 3 | [0.0 0.0 0.0 4.0 4.0 4.0]\n",
      " 4 | [0.0 1.0 1.0 0.0 5.0 5.0]\n",
      " 5 | [0.0 1.0 3.0 2.0 0.0 7.0]\n",
      " 6 | [0.0 0.0 2.0 0.0 3.0 0.0]\n"
     ]
    }
   ],
   "source": [
    "print('    ',compressed)\n",
    "print('   | -------------------------------------------')\n",
    "[i for i in zip(compressed[:,None],compressed[:,None]%compressed)]\n",
    "for i in range(len(truth)):\n",
    "    print(f'{compressed[i]:2.3g} | {truth[i]:}')"
   ]
  },
  {
   "cell_type": "code",
   "execution_count": 370,
   "metadata": {},
   "outputs": [
    {
     "name": "stdout",
     "output_type": "stream",
     "text": [
      "[1.0 2.0 3.0 4.0 5.0 6.0 9.0 10.0 12.0 15.0 18.0 20.0 25.0 30.0]\n"
     ]
    }
   ],
   "source": [
    "print(compressed)"
   ]
  },
  {
   "cell_type": "code",
   "execution_count": 371,
   "metadata": {},
   "outputs": [],
   "source": [
    "divide = compressed[:,None]/compressed;"
   ]
  },
  {
   "cell_type": "code",
   "execution_count": 372,
   "metadata": {},
   "outputs": [
    {
     "name": "stdout",
     "output_type": "stream",
     "text": [
      "       [1.0 2.0 3.0 4.0 5.0 6.0 9.0 10.0 12.0 15.0 18.0 20.0 25.0 30.0]\n",
      "   | -------------------------------------------\n",
      "   1 | [1.0 0.5 0.3 0.2 0.2 0.2 0.1 0.1 0.1 0.1 0.1 0.1 0.0 0.0]\n",
      "   2 | [2.0 1.0 0.7 0.5 0.4 0.3 0.2 0.2 0.2 0.1 0.1 0.1 0.1 0.1]\n",
      "   3 | [3.0 1.5 1.0 0.8 0.6 0.5 0.3 0.3 0.2 0.2 0.2 0.1 0.1 0.1]\n",
      "   4 | [4.0 2.0 1.3 1.0 0.8 0.7 0.4 0.4 0.3 0.3 0.2 0.2 0.2 0.1]\n",
      "   5 | [5.0 2.5 1.7 1.2 1.0 0.8 0.6 0.5 0.4 0.3 0.3 0.2 0.2 0.2]\n",
      "   6 | [6.0 3.0 2.0 1.5 1.2 1.0 0.7 0.6 0.5 0.4 0.3 0.3 0.2 0.2]\n",
      "   9 | [9.0 4.5 3.0 2.2 1.8 1.5 1.0 0.9 0.8 0.6 0.5 0.5 0.4 0.3]\n",
      "  10 | [10.0 5.0 3.3 2.5 2.0 1.7 1.1 1.0 0.8 0.7 0.6 0.5 0.4 0.3]\n",
      "  12 | [12.0 6.0 4.0 3.0 2.4 2.0 1.3 1.2 1.0 0.8 0.7 0.6 0.5 0.4]\n",
      "  15 | [15.0 7.5 5.0 3.8 3.0 2.5 1.7 1.5 1.2 1.0 0.8 0.8 0.6 0.5]\n",
      "  18 | [18.0 9.0 6.0 4.5 3.6 3.0 2.0 1.8 1.5 1.2 1.0 0.9 0.7 0.6]\n",
      "  20 | [20.0 10.0 6.7 5.0 4.0 3.3 2.2 2.0 1.7 1.3 1.1 1.0 0.8 0.7]\n",
      "  25 | [25.0 12.5 8.3 6.2 5.0 4.2 2.8 2.5 2.1 1.7 1.4 1.2 1.0 0.8]\n",
      "  30 | [30.0 15.0 10.0 7.5 6.0 5.0 3.3 3.0 2.5 2.0 1.7 1.5 1.2 1.0]\n"
     ]
    }
   ],
   "source": [
    "print('      ',compressed)\n",
    "print('   | -------------------------------------------')\n",
    "[i for i in zip(compressed[:,None],compressed[:,None]%compressed)]\n",
    "for i in range(len(divide)):\n",
    "    print(f'{compressed[i]:4.0f} | {divide[i]:}')"
   ]
  },
  {
   "cell_type": "code",
   "execution_count": 373,
   "metadata": {},
   "outputs": [
    {
     "data": {
      "text/plain": [
       "600"
      ]
     },
     "execution_count": 373,
     "metadata": {},
     "output_type": "execute_result"
    }
   ],
   "source": [
    "8*3*25"
   ]
  }
 ],
 "metadata": {
  "kernelspec": {
   "display_name": "Python 3",
   "language": "python",
   "name": "python3"
  },
  "language_info": {
   "codemirror_mode": {
    "name": "ipython",
    "version": 3
   },
   "file_extension": ".py",
   "mimetype": "text/x-python",
   "name": "python",
   "nbconvert_exporter": "python",
   "pygments_lexer": "ipython3",
   "version": "3.7.3"
  }
 },
 "nbformat": 4,
 "nbformat_minor": 4
}
