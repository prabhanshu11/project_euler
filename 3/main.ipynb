{
 "cells": [
  {
   "cell_type": "code",
   "execution_count": 439,
   "metadata": {},
   "outputs": [],
   "source": [
    "import numpy as np\n",
    "import pandas as pd\n",
    "from fastai.vision import *"
   ]
  },
  {
   "cell_type": "code",
   "execution_count": 440,
   "metadata": {},
   "outputs": [],
   "source": [
    "n = 225\n",
    "a = np.arange(1,n/2)\n",
    "modulus = n%a"
   ]
  },
  {
   "cell_type": "code",
   "execution_count": 441,
   "metadata": {},
   "outputs": [],
   "source": [
    "np.set_printoptions(edgeitems=300, linewidth=100000,formatter=dict(float=lambda x: \"%1.1f\" % x))"
   ]
  },
  {
   "cell_type": "code",
   "execution_count": 442,
   "metadata": {},
   "outputs": [
    {
     "data": {
      "text/plain": [
       "array([1.0, 3.0, 5.0, 9.0, 15.0, 25.0, 45.0, 75.0])"
      ]
     },
     "execution_count": 442,
     "metadata": {},
     "output_type": "execute_result"
    }
   ],
   "source": [
    "compressed = np.compress(modulus==0,a);compressed"
   ]
  },
  {
   "cell_type": "code",
   "execution_count": 443,
   "metadata": {},
   "outputs": [],
   "source": [
    "truth = compressed[:,None]%compressed;"
   ]
  },
  {
   "cell_type": "code",
   "execution_count": 444,
   "metadata": {},
   "outputs": [
    {
     "name": "stdout",
     "output_type": "stream",
     "text": [
      "     [1.0 3.0 5.0 9.0 15.0 25.0 45.0 75.0]\n",
      "   | -------------------------------------------\n",
      " 1 | [0.0 1.0 1.0 1.0 1.0 1.0 1.0 1.0]\n",
      " 3 | [0.0 0.0 3.0 3.0 3.0 3.0 3.0 3.0]\n",
      " 5 | [0.0 2.0 0.0 5.0 5.0 5.0 5.0 5.0]\n",
      " 9 | [0.0 0.0 4.0 0.0 9.0 9.0 9.0 9.0]\n",
      "15 | [0.0 0.0 0.0 6.0 0.0 15.0 15.0 15.0]\n",
      "25 | [0.0 1.0 0.0 7.0 10.0 0.0 25.0 25.0]\n",
      "45 | [0.0 0.0 0.0 0.0 0.0 20.0 0.0 45.0]\n",
      "75 | [0.0 0.0 0.0 3.0 0.0 0.0 30.0 0.0]\n"
     ]
    }
   ],
   "source": [
    "print('    ',compressed)\n",
    "print('   | -------------------------------------------')\n",
    "[i for i in zip(compressed[:,None],compressed[:,None]%compressed)]\n",
    "for i in range(len(truth)):\n",
    "    print(f'{compressed[i]:2.3g} | {truth[i]:}')"
   ]
  },
  {
   "cell_type": "code",
   "execution_count": 445,
   "metadata": {},
   "outputs": [
    {
     "name": "stdout",
     "output_type": "stream",
     "text": [
      "[1.0 3.0 5.0 9.0 15.0 25.0 45.0 75.0]\n"
     ]
    }
   ],
   "source": [
    "print(compressed)"
   ]
  },
  {
   "cell_type": "code",
   "execution_count": 446,
   "metadata": {},
   "outputs": [],
   "source": [
    "divide = compressed[:,None]/compressed;"
   ]
  },
  {
   "cell_type": "code",
   "execution_count": 447,
   "metadata": {},
   "outputs": [
    {
     "name": "stdout",
     "output_type": "stream",
     "text": [
      "       [1.0 3.0 5.0 9.0 15.0 25.0 45.0 75.0]\n",
      "   | -------------------------------------------\n",
      "   1 | [1.0 0.3 0.2 0.1 0.1 0.0 0.0 0.0]\n",
      "   3 | [3.0 1.0 0.6 0.3 0.2 0.1 0.1 0.0]\n",
      "   5 | [5.0 1.7 1.0 0.6 0.3 0.2 0.1 0.1]\n",
      "   9 | [9.0 3.0 1.8 1.0 0.6 0.4 0.2 0.1]\n",
      "  15 | [15.0 5.0 3.0 1.7 1.0 0.6 0.3 0.2]\n",
      "  25 | [25.0 8.3 5.0 2.8 1.7 1.0 0.6 0.3]\n",
      "  45 | [45.0 15.0 9.0 5.0 3.0 1.8 1.0 0.6]\n",
      "  75 | [75.0 25.0 15.0 8.3 5.0 3.0 1.7 1.0]\n"
     ]
    }
   ],
   "source": [
    "print('      ',compressed)\n",
    "print('   | -------------------------------------------')\n",
    "[i for i in zip(compressed[:,None],compressed[:,None]%compressed)]\n",
    "for i in range(len(divide)):\n",
    "    print(f'{compressed[i]:4.0f} | {divide[i]:}')"
   ]
  },
  {
   "cell_type": "code",
   "execution_count": 433,
   "metadata": {},
   "outputs": [
    {
     "data": {
      "text/plain": [
       "2700"
      ]
     },
     "execution_count": 433,
     "metadata": {},
     "output_type": "execute_result"
    }
   ],
   "source": [
    "27*25*4"
   ]
  },
  {
   "cell_type": "code",
   "execution_count": null,
   "metadata": {},
   "outputs": [],
   "source": []
  },
  {
   "cell_type": "code",
   "execution_count": null,
   "metadata": {},
   "outputs": [],
   "source": []
  },
  {
   "cell_type": "code",
   "execution_count": null,
   "metadata": {},
   "outputs": [],
   "source": []
  }
 ],
 "metadata": {
  "kernelspec": {
   "display_name": "Python 3",
   "language": "python",
   "name": "python3"
  },
  "language_info": {
   "codemirror_mode": {
    "name": "ipython",
    "version": 3
   },
   "file_extension": ".py",
   "mimetype": "text/x-python",
   "name": "python",
   "nbconvert_exporter": "python",
   "pygments_lexer": "ipython3",
   "version": "3.7.3"
  }
 },
 "nbformat": 4,
 "nbformat_minor": 4
}
